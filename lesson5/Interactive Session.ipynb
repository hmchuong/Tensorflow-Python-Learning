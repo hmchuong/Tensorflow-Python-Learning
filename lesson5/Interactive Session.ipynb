{
 "cells": [
  {
   "cell_type": "code",
   "execution_count": 2,
   "metadata": {},
   "outputs": [],
   "source": [
    "import tensorflow as tf\n",
    "\n",
    "session = tf.InteractiveSession()\n",
    "\n",
    "x = tf.constant(list(range(10)))"
   ]
  },
  {
   "cell_type": "code",
   "execution_count": 3,
   "metadata": {},
   "outputs": [
    {
     "name": "stdout",
     "output_type": "stream",
     "text": [
      "[0 1 2 3 4 5 6 7 8 9]\n"
     ]
    }
   ],
   "source": [
    "print(x.eval())"
   ]
  },
  {
   "cell_type": "code",
   "execution_count": 4,
   "metadata": {},
   "outputs": [],
   "source": [
    "session.close()"
   ]
  },
  {
   "cell_type": "code",
   "execution_count": 11,
   "metadata": {
    "scrolled": true
   },
   "outputs": [
    {
     "name": "stdout",
     "output_type": "stream",
     "text": [
      "4143181824 Kb\n"
     ]
    }
   ],
   "source": [
    "import resource\n",
    "print(\"{} Kb\".format(resource.getrusage(resource.RUSAGE_SELF).ru_maxrss))\n"
   ]
  },
  {
   "cell_type": "code",
   "execution_count": 6,
   "metadata": {},
   "outputs": [],
   "source": [
    "import numpy as np\n",
    "session = tf.InteractiveSession()\n",
    "\n",
    "X = tf.constant(np.eye(10000))\n",
    "Y = tf.constant(np.random.randn(10000, 300))"
   ]
  },
  {
   "cell_type": "code",
   "execution_count": 8,
   "metadata": {},
   "outputs": [],
   "source": [
    "Z = tf.matmul(X, Y)"
   ]
  },
  {
   "cell_type": "code",
   "execution_count": 10,
   "metadata": {},
   "outputs": [
    {
     "data": {
      "text/plain": [
       "array([[ -2.22788374e-02,  -2.87312546e-01,  -2.38372641e-01, ...,\n",
       "         -1.41054110e+00,  -1.09517345e-01,  -4.25305414e-04],\n",
       "       [  1.12999227e-01,   2.20456372e-01,  -1.24703731e+00, ...,\n",
       "          1.15775437e+00,   1.71952630e+00,  -1.23895633e+00],\n",
       "       [  1.41409164e+00,  -1.54790475e+00,  -1.53637569e+00, ...,\n",
       "         -4.77078235e-01,   7.21346159e-01,  -1.27864882e+00],\n",
       "       ..., \n",
       "       [  2.27265935e-01,   7.44371974e-02,   1.39543421e-02, ...,\n",
       "          6.31957519e-02,   3.30003506e-01,   1.38626388e-01],\n",
       "       [ -2.84095186e-01,  -5.01312070e-01,   4.26432795e-01, ...,\n",
       "         -4.52761196e-01,  -7.28999150e-01,  -3.28678652e-01],\n",
       "       [  2.46018328e+00,  -6.85329538e-01,  -9.05998090e-02, ...,\n",
       "          2.54236355e-01,   8.58389550e-01,  -3.97082735e-01]])"
      ]
     },
     "execution_count": 10,
     "metadata": {},
     "output_type": "execute_result"
    }
   ],
   "source": [
    "Z.eval()"
   ]
  },
  {
   "cell_type": "code",
   "execution_count": 12,
   "metadata": {},
   "outputs": [],
   "source": [
    "session.close()"
   ]
  }
 ],
 "metadata": {
  "kernelspec": {
   "display_name": "Python 3",
   "language": "python",
   "name": "python3"
  },
  "language_info": {
   "codemirror_mode": {
    "name": "ipython",
    "version": 3
   },
   "file_extension": ".py",
   "mimetype": "text/x-python",
   "name": "python",
   "nbconvert_exporter": "python",
   "pygments_lexer": "ipython3",
   "version": "3.6.2"
  }
 },
 "nbformat": 4,
 "nbformat_minor": 2
}
